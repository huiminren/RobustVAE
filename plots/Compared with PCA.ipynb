{
 "cells": [
  {
   "cell_type": "code",
   "execution_count": 1,
   "metadata": {
    "collapsed": false
   },
   "outputs": [],
   "source": [
    "import numpy as np\n",
    "import pandas as pd\n",
    "\n",
    "from sklearn.decomposition import PCA\n",
    "from sklearn.ensemble import RandomForestClassifier\n",
    "from sklearn.model_selection import train_test_split\n",
    "\n",
    "import tensorflow.examples.tutorials.mnist.input_data as input_data\n",
    "\n",
    "import os\n",
    "import glob\n",
    "\n",
    "import seaborn as sns; sns.set()\n",
    "import matplotlib.pyplot as plt \n",
    "%matplotlib inline\n",
    "\n",
    "import warnings\n",
    "warnings.filterwarnings('ignore')"
   ]
  },
  {
   "cell_type": "code",
   "execution_count": 2,
   "metadata": {
    "collapsed": false
   },
   "outputs": [
    {
     "name": "stdout",
     "output_type": "stream",
     "text": [
      "WARNING:tensorflow:From <ipython-input-2-a4d4b0464e7f>:1: read_data_sets (from tensorflow.contrib.learn.python.learn.datasets.mnist) is deprecated and will be removed in a future version.\n",
      "Instructions for updating:\n",
      "Please use alternatives such as official/mnist/dataset.py from tensorflow/models.\n",
      "WARNING:tensorflow:From /anaconda/lib/python3.6/site-packages/tensorflow/contrib/learn/python/learn/datasets/mnist.py:260: maybe_download (from tensorflow.contrib.learn.python.learn.datasets.base) is deprecated and will be removed in a future version.\n",
      "Instructions for updating:\n",
      "Please write your own downloading logic.\n",
      "WARNING:tensorflow:From /anaconda/lib/python3.6/site-packages/tensorflow/contrib/learn/python/learn/datasets/mnist.py:262: extract_images (from tensorflow.contrib.learn.python.learn.datasets.mnist) is deprecated and will be removed in a future version.\n",
      "Instructions for updating:\n",
      "Please use tf.data to implement this functionality.\n",
      "Extracting MNIST_data/train-images-idx3-ubyte.gz\n",
      "WARNING:tensorflow:From /anaconda/lib/python3.6/site-packages/tensorflow/contrib/learn/python/learn/datasets/mnist.py:267: extract_labels (from tensorflow.contrib.learn.python.learn.datasets.mnist) is deprecated and will be removed in a future version.\n",
      "Instructions for updating:\n",
      "Please use tf.data to implement this functionality.\n",
      "Extracting MNIST_data/train-labels-idx1-ubyte.gz\n",
      "Extracting MNIST_data/t10k-images-idx3-ubyte.gz\n",
      "Extracting MNIST_data/t10k-labels-idx1-ubyte.gz\n",
      "WARNING:tensorflow:From /anaconda/lib/python3.6/site-packages/tensorflow/contrib/learn/python/learn/datasets/mnist.py:290: DataSet.__init__ (from tensorflow.contrib.learn.python.learn.datasets.mnist) is deprecated and will be removed in a future version.\n",
      "Instructions for updating:\n",
      "Please use alternatives such as official/mnist/dataset.py from tensorflow/models.\n"
     ]
    }
   ],
   "source": [
    "mnist = input_data.read_data_sets(\"MNIST_data/\", one_hot=False)\n",
    "X = mnist.train.images\n",
    "y = mnist.train.labels"
   ]
  },
  {
   "cell_type": "markdown",
   "metadata": {},
   "source": [
    "### Plot of Input Data with Noise"
   ]
  },
  {
   "cell_type": "code",
   "execution_count": 3,
   "metadata": {
    "collapsed": true
   },
   "outputs": [],
   "source": [
    "def plot_input(rvae_generated,noise_factor):\n",
    "    h = w = 28\n",
    "    num_gen = 100\n",
    "\n",
    "    n = np.sqrt(num_gen).astype(np.int32)\n",
    "    I_generated = np.empty((h*n, w*n))\n",
    "    for i in range(n):\n",
    "        for j in range(n):\n",
    "            I_generated[i*h:(i+1)*h, j*w:(j+1)*w] = rvae_generated[i*n+j, :].reshape(28, 28)\n",
    "\n",
    "    plt.figure(figsize=(8, 8))\n",
    "    plt.title(\"Examples of Input with Noise Facotr \"+str(noise_factor))\n",
    "    plt.imshow(I_generated, cmap='gray')\n",
    "    plt.show()"
   ]
  },
  {
   "cell_type": "markdown",
   "metadata": {},
   "source": [
    "### Load Latent Data"
   ]
  },
  {
   "cell_type": "code",
   "execution_count": 4,
   "metadata": {
    "collapsed": true
   },
   "outputs": [],
   "source": [
    "models = ['RDA','RPCA','RVAE'] \n",
    "noise_factors = [0.0,0.2,0.4]"
   ]
  },
  {
   "cell_type": "code",
   "execution_count": 5,
   "metadata": {
    "collapsed": false
   },
   "outputs": [],
   "source": [
    "transformed_data = {}\n",
    "for model in models:\n",
    "    path = 'withPCA/'+model+'/*'\n",
    "    file_list = glob.glob(path)\n",
    "    tmp = {}\n",
    "    for i in range(len(file_list)):\n",
    "        tmp[noise_factors[i]]=np.load(file_list[i])\n",
    "    transformed_data[model]=tmp"
   ]
  },
  {
   "cell_type": "code",
   "execution_count": 6,
   "metadata": {
    "collapsed": false
   },
   "outputs": [],
   "source": [
    "pca_latent = {}\n",
    "original_input = {}\n",
    "for noise_factor in noise_factors:\n",
    "    x_train_noisy = X + noise_factor * np.random.normal(loc=0.0, scale=1.0, size=X.shape)\n",
    "    x_train_noisy = np.clip(x_train_noisy, 0., 1.)\n",
    "#     plot_input(x_train_noisy,noise_factor)\n",
    "    pca = PCA(n_components=2)\n",
    "#     pca.fit(x_train_noisy)\n",
    "    pca_transform = pca.fit_transform(x_train_noisy)\n",
    "    pca_latent[noise_factor] = pca_transform\n",
    "    original_input[noise_factor] = x_train_noisy"
   ]
  },
  {
   "cell_type": "code",
   "execution_count": 7,
   "metadata": {
    "collapsed": false
   },
   "outputs": [],
   "source": [
    "models.append('PCA')\n",
    "transformed_data['PCA'] = pca_latent\n",
    "\n",
    "models.append('Original')\n",
    "transformed_data['Original'] = original_input"
   ]
  },
  {
   "cell_type": "markdown",
   "metadata": {},
   "source": [
    "### Test Dimension Reduction with Random Forest"
   ]
  },
  {
   "cell_type": "code",
   "execution_count": 8,
   "metadata": {
    "collapsed": true
   },
   "outputs": [],
   "source": [
    "def test_denoising_acc(X):\n",
    "    X_train, X_test, y_train, y_test = train_test_split(X, y, test_size=0.25, random_state=42)\n",
    "    \n",
    "    \n",
    "    clf = RandomForestClassifier(n_estimators=50, max_depth=2, random_state=595)\n",
    "    clf.fit(X_train, y_train)\n",
    "    \n",
    "    return clf.score(X_test, y_test)"
   ]
  },
  {
   "cell_type": "code",
   "execution_count": 9,
   "metadata": {
    "collapsed": false
   },
   "outputs": [],
   "source": [
    "models_acc = {}\n",
    "for i in range(len(models)):\n",
    "    tmp = {}\n",
    "    for j in range(len(noise_factors)):\n",
    "        test_acc = test_denoising_acc(transformed_data[models[i]][noise_factors[j]])\n",
    "        tmp[noise_factors[j]] = test_acc\n",
    "    models_acc[models[i]] = tmp"
   ]
  },
  {
   "cell_type": "code",
   "execution_count": 10,
   "metadata": {
    "collapsed": false
   },
   "outputs": [
    {
     "data": {
      "text/html": [
       "<div>\n",
       "<style scoped>\n",
       "    .dataframe tbody tr th:only-of-type {\n",
       "        vertical-align: middle;\n",
       "    }\n",
       "\n",
       "    .dataframe tbody tr th {\n",
       "        vertical-align: top;\n",
       "    }\n",
       "\n",
       "    .dataframe thead th {\n",
       "        text-align: right;\n",
       "    }\n",
       "</style>\n",
       "<table border=\"1\" class=\"dataframe\">\n",
       "  <thead>\n",
       "    <tr style=\"text-align: right;\">\n",
       "      <th></th>\n",
       "      <th>RDA</th>\n",
       "      <th>RPCA</th>\n",
       "      <th>RVAE</th>\n",
       "      <th>PCA</th>\n",
       "      <th>Original</th>\n",
       "    </tr>\n",
       "  </thead>\n",
       "  <tbody>\n",
       "    <tr>\n",
       "      <th>0.0</th>\n",
       "      <td>0.470618</td>\n",
       "      <td>0.622545</td>\n",
       "      <td>0.301164</td>\n",
       "      <td>0.384873</td>\n",
       "      <td>0.634836</td>\n",
       "    </tr>\n",
       "    <tr>\n",
       "      <th>0.2</th>\n",
       "      <td>0.679709</td>\n",
       "      <td>0.609527</td>\n",
       "      <td>0.298764</td>\n",
       "      <td>0.383418</td>\n",
       "      <td>0.568509</td>\n",
       "    </tr>\n",
       "    <tr>\n",
       "      <th>0.4</th>\n",
       "      <td>0.577745</td>\n",
       "      <td>0.596291</td>\n",
       "      <td>0.212727</td>\n",
       "      <td>0.372218</td>\n",
       "      <td>0.500800</td>\n",
       "    </tr>\n",
       "  </tbody>\n",
       "</table>\n",
       "</div>"
      ],
      "text/plain": [
       "          RDA      RPCA      RVAE       PCA  Original\n",
       "0.0  0.470618  0.622545  0.301164  0.384873  0.634836\n",
       "0.2  0.679709  0.609527  0.298764  0.383418  0.568509\n",
       "0.4  0.577745  0.596291  0.212727  0.372218  0.500800"
      ]
     },
     "execution_count": 10,
     "metadata": {},
     "output_type": "execute_result"
    }
   ],
   "source": [
    "df_model_acc = pd.DataFrame.from_dict(models_acc)\n",
    "df_model_acc"
   ]
  },
  {
   "cell_type": "code",
   "execution_count": 11,
   "metadata": {
    "collapsed": false
   },
   "outputs": [
    {
     "data": {
      "image/png": "[encoded data removed]",
      "text/plain": [
       "<matplotlib.figure.Figure at 0x1a3170d198>"
      ]
     },
     "metadata": {},
     "output_type": "display_data"
    }
   ],
   "source": [
    "ax = df_model_acc.plot(figsize=(10,8),kind = 'bar')\n",
    "ax.legend(bbox_to_anchor=(1.15, 0.5))\n",
    "plt.title('Accuracy of Dimension Reduction')\n",
    "plt.xlabel('noise factor')\n",
    "plt.ylabel('accuracy')\n",
    "plt.show()"
   ]
  },
  {
   "cell_type": "code",
   "execution_count": null,
   "metadata": {
    "collapsed": true
   },
   "outputs": [],
   "source": []
  }
 ],
 "metadata": {
  "kernelspec": {
   "display_name": "Python 3",
   "language": "python",
   "name": "python3"
  },
  "language_info": {
   "codemirror_mode": {
    "name": "ipython",
    "version": 3
   },
   "file_extension": ".py",
   "mimetype": "text/x-python",
   "name": "python",
   "nbconvert_exporter": "python",
   "pygments_lexer": "ipython3",
   "version": "3.6.0"
  }
 },
 "nbformat": 4,
 "nbformat_minor": 2
}
