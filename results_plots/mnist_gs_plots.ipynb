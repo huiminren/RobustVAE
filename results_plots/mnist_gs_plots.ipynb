{
 "cells": [
  {
   "cell_type": "code",
   "execution_count": 1,
   "metadata": {
    "collapsed": true
   },
   "outputs": [],
   "source": [
    "from tensorflow.examples.tutorials.mnist import input_data\n",
    "\n",
    "import glob\n",
    "import numpy as np\n",
    "\n",
    "import seaborn as sns\n",
    "import matplotlib.pylab as plt"
   ]
  },
  {
   "cell_type": "markdown",
   "metadata": {},
   "source": [
    "### FID Heat Map"
   ]
  },
  {
   "cell_type": "code",
   "execution_count": 2,
   "metadata": {
    "collapsed": false
   },
   "outputs": [
    {
     "data": {
      "text/plain": [
       "(9,)"
      ]
     },
     "execution_count": 2,
     "metadata": {},
     "output_type": "execute_result"
    }
   ],
   "source": [
    "vae_fid_scores = np.load(\"fid_scores_vae.npy\")\n",
    "vae_fid_scores.shape"
   ]
  },
  {
   "cell_type": "code",
   "execution_count": 3,
   "metadata": {
    "collapsed": false
   },
   "outputs": [
    {
     "data": {
      "text/plain": [
       "(10, 9)"
      ]
     },
     "execution_count": 3,
     "metadata": {},
     "output_type": "execute_result"
    }
   ],
   "source": [
    "rvae_fid_scores = np.load(\"fid_scores_rvae.npy\")\n",
    "rvae_fid_scores.shape"
   ]
  },
  {
   "cell_type": "code",
   "execution_count": 4,
   "metadata": {
    "collapsed": true
   },
   "outputs": [],
   "source": [
    "lambdas = [1,5,10,15,20,25,50,70,100,250]\n",
    "noise_factors = [round(0.1*i,1) for i in range(1,10)]"
   ]
  },
  {
   "cell_type": "code",
   "execution_count": 5,
   "metadata": {
    "collapsed": false
   },
   "outputs": [
    {
     "data": {
      "image/png": "[encoded data removed]",
      "text/plain": [
       "<matplotlib.figure.Figure at 0x1a28606b00>"
      ]
     },
     "metadata": {},
     "output_type": "display_data"
    }
   ],
   "source": [
    "plt.figure(figsize=(16, 6))\n",
    "ax = sns.heatmap((vae_fid_scores - rvae_fid_scores)[::-1], linewidth=0.5,cmap=\"RdBu\") #bwr\n",
    "\n",
    "plt.xlabel(\"noise factor\")\n",
    "plt.ylabel(\"lambda\")\n",
    "plt.yticks(range(len(lambdas)),lambdas[::-1])\n",
    "plt.xticks(range(len(noise_factors)),noise_factors)\n",
    "plt.title(\"RVAE v.s. VAE with Gaussian cliped noise\")\n",
    "\n",
    "# plt.savefig(\"fid_heatmap.png\")\n",
    "plt.show()"
   ]
  },
  {
   "cell_type": "markdown",
   "metadata": {},
   "source": [
    "### VAE vs. RVAE with Bar Plot"
   ]
  },
  {
   "cell_type": "code",
   "execution_count": 6,
   "metadata": {
    "collapsed": false
   },
   "outputs": [
    {
     "data": {
      "text/plain": [
       "6"
      ]
     },
     "execution_count": 6,
     "metadata": {},
     "output_type": "execute_result"
    }
   ],
   "source": [
    "# find the best lambda, i.e. the minimum average fid scores across noise factors\n",
    "a = [i.mean() for i in rvae_fid_scores]\n",
    "a.index(np.array(a).min())"
   ]
  },
  {
   "cell_type": "code",
   "execution_count": 7,
   "metadata": {
    "collapsed": false
   },
   "outputs": [
    {
     "name": "stdout",
     "output_type": "stream",
     "text": [
      "50\n"
     ]
    },
    {
     "data": {
      "text/plain": [
       "array([  80.30911135,   92.44873952,  104.19395377,  114.16767448,\n",
       "        117.34559913,  132.597737  ,  345.16858044,  372.26714225,\n",
       "        374.04703268])"
      ]
     },
     "execution_count": 7,
     "metadata": {},
     "output_type": "execute_result"
    }
   ],
   "source": [
    "print(lambdas[6])\n",
    "rvae_fid_scores[6]"
   ]
  },
  {
   "cell_type": "code",
   "execution_count": 8,
   "metadata": {
    "collapsed": false
   },
   "outputs": [
    {
     "data": {
      "text/plain": [
       "array([  74.88763376,  109.04261739,  138.04759985,  154.50154932,\n",
       "        162.15517079,  365.14856679,  369.67180674,  350.21558045,\n",
       "        350.28284332])"
      ]
     },
     "execution_count": 8,
     "metadata": {},
     "output_type": "execute_result"
    }
   ],
   "source": [
    "vae_fid_scores"
   ]
  },
  {
   "cell_type": "code",
   "execution_count": 9,
   "metadata": {
    "collapsed": false
   },
   "outputs": [
    {
     "data": {
      "image/png": "[encoded data removed]",
      "text/plain": [
       "<matplotlib.figure.Figure at 0x1a2e109828>"
      ]
     },
     "metadata": {},
     "output_type": "display_data"
    }
   ],
   "source": [
    "noise_factors = [round(0.1*i,1) for i in range(1,10)]\n",
    "# create plot\n",
    "fig, ax = plt.subplots()\n",
    "index = np.arange(len(noise_factors))\n",
    "bar_width = 0.35\n",
    "opacity = 0.8\n",
    " \n",
    "rects1 = plt.bar(index, vae_fid_scores, bar_width,\n",
    "                 alpha=opacity, label='VAE')\n",
    " \n",
    "rects2 = plt.bar(index + bar_width, rvae_fid_scores[6], bar_width,\n",
    "                 alpha=opacity, label='RVAE')\n",
    " \n",
    "plt.xlabel('Noise factor')\n",
    "plt.ylabel('FID score')\n",
    "plt.title('VAE v.s. RVAE with Gaussian Cliped Noise')\n",
    "plt.xticks(index + bar_width, noise_factors)\n",
    "plt.legend()\n",
    " \n",
    "plt.tight_layout()\n",
    "# plt.savefig(\"../gs_pic/gs_vae_rvae_bar.png\")\n",
    "plt.show()"
   ]
  },
  {
   "cell_type": "markdown",
   "metadata": {},
   "source": [
    "#### Examples of VAE's and RVAE's generation with 60% noise"
   ]
  },
  {
   "cell_type": "code",
   "execution_count": 10,
   "metadata": {
    "collapsed": true
   },
   "outputs": [],
   "source": [
    "def plot(x,name):\n",
    "    h = w = 28\n",
    "    # plot of generation\n",
    "    n = np.sqrt(8).astype(np.int32)\n",
    "    I_generated = np.empty((h*n, w*n))\n",
    "    for i in range(n):\n",
    "        for j in range(n):\n",
    "            I_generated[i*h:(i+1)*h, j*w:(j+1)*w] = x[i*n+j, :].reshape(28, 28)\n",
    "\n",
    "    plt.figure(figsize=(4, 4))\n",
    "    plt.imshow(I_generated, cmap='gray')\n",
    "    plt.axis('off')\n",
    "    plt.title(name)\n",
    "#     plt.savefig(\"./pic/raw_fm_n09\")\n",
    "    plt.show()"
   ]
  },
  {
   "cell_type": "code",
   "execution_count": 11,
   "metadata": {
    "collapsed": false
   },
   "outputs": [
    {
     "data": {
      "image/png": "[encoded data removed]",
      "text/plain": [
       "<matplotlib.figure.Figure at 0x1a2e4f7e80>"
      ]
     },
     "metadata": {},
     "output_type": "display_data"
    },
    {
     "data": {
      "image/png": "[encoded data removed]",
      "text/plain": [
       "<matplotlib.figure.Figure at 0x1a2e53eb70>"
      ]
     },
     "metadata": {},
     "output_type": "display_data"
    }
   ],
   "source": [
    "rvae = np.load(\"./rvae_gs_noise/lambda_50/noise_0.6/generation_fid.npy\")[65:]\n",
    "plot(rvae,\"rvae\")\n",
    "\n",
    "vae = np.load(\"./vae_gs_noise/0.6/generation_fid.npy\")\n",
    "plot(vae,\"vae\")"
   ]
  }
 ],
 "metadata": {
  "kernelspec": {
   "display_name": "Python 3",
   "language": "python",
   "name": "python3"
  },
  "language_info": {
   "codemirror_mode": {
    "name": "ipython",
    "version": 3
   },
   "file_extension": ".py",
   "mimetype": "text/x-python",
   "name": "python",
   "nbconvert_exporter": "python",
   "pygments_lexer": "ipython3",
   "version": "3.6.0"
  }
 },
 "nbformat": 4,
 "nbformat_minor": 2
}
