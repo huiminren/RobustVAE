{
 "cells": [
  {
   "cell_type": "code",
   "execution_count": 1,
   "metadata": {
    "collapsed": true
   },
   "outputs": [],
   "source": [
    "#!/usr/bin/env python3\n",
    "import fid\n",
    "import numpy as np\n",
    "\n",
    "import seaborn as sns\n",
    "import matplotlib.pylab as plt\n",
    "plt.switch_backend('agg')"
   ]
  },
  {
   "cell_type": "code",
   "execution_count": null,
   "metadata": {
    "collapsed": true
   },
   "outputs": [],
   "source": []
  },
  {
   "cell_type": "code",
   "execution_count": 5,
   "metadata": {
    "collapsed": false
   },
   "outputs": [
    {
     "name": "stdout",
     "output_type": "stream",
     "text": [
      "FID: 5.684341886080801e-13\n"
     ]
    }
   ],
   "source": [
    "# load precalculated training set statistics\n",
    "f = np.load(\"fid_stats_fashion_1w.npz\")\n",
    "mu_real, sigma_real = f['mu'][:], f['sigma'][:]\n",
    "f.close()\n",
    "\n",
    "noise_factors = [0]\n",
    "\n",
    "\n",
    "fid_scores = []\n",
    "for n in noise_factors:\n",
    "    path = \"fid_stats_fashion_1w.npz\"\n",
    "    f_g = np.load(path)\n",
    "    mu_gen, sigma_gen = f_g['mu'][:], f_g['sigma'][:]\n",
    "    try: \n",
    "        fid_value = fid.calculate_frechet_distance(mu_gen, sigma_gen, mu_real, sigma_real)\n",
    "    except:\n",
    "        fid_value = 500\n",
    "    print(\"FID: %s\" % fid_value)\n",
    "    fid_scores.append(fid_value)\n",
    "\n",
    "fid_scores = np.array(fid_scores)\n",
    "# np.save(\"fid_scores_rvae.npy\",fid_scores)"
   ]
  },
  {
   "cell_type": "code",
   "execution_count": null,
   "metadata": {
    "collapsed": true
   },
   "outputs": [],
   "source": []
  }
 ],
 "metadata": {
  "kernelspec": {
   "display_name": "Python 3",
   "language": "python",
   "name": "python3"
  },
  "language_info": {
   "codemirror_mode": {
    "name": "ipython",
    "version": 3
   },
   "file_extension": ".py",
   "mimetype": "text/x-python",
   "name": "python",
   "nbconvert_exporter": "python",
   "pygments_lexer": "ipython3",
   "version": "3.6.7"
  }
 },
 "nbformat": 4,
 "nbformat_minor": 2
}
